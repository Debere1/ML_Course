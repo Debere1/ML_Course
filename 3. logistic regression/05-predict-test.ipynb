{
 "cells": [
  {
   "cell_type": "code",
   "execution_count": 1,
   "metadata": {},
   "outputs": [],
   "source": [
    "import requests"
   ]
  },
  {
   "cell_type": "code",
   "execution_count": 2,
   "metadata": {},
   "outputs": [],
   "source": [
    "url = 'http://localhost:9696/predict'"
   ]
  },
  {
   "cell_type": "code",
   "execution_count": 18,
   "metadata": {},
   "outputs": [],
   "source": [
    "customer = {\n",
    "    \"customerid\": \"3454-jfubc\",\n",
    "    \"gender\":  \"male\",\n",
    "    \"seniorcitizen\": 1,\n",
    "    \"partner\": \"no\",\n",
    "    \"dependents\": \"no\",\n",
    "    \"tenure\": (68/12),\n",
    "    \"phoneservice\": \"yes\",\n",
    "    \"multiplelines\": \"no\",\n",
    "    \"internetservice\": \"no\",\n",
    "    \"onlinesecurity\": \"no_internet_service\",\n",
    "    \"onlinebackup\": \"no_internet_service\",\n",
    "    \"deviceprotection\": \"no_internet_service\",\n",
    "    \"techsupport\": \"no_internet_service\",\n",
    "    \"streamingtv\":  \"no_internet_service\",\n",
    "    \"streamingmovies\": \"no_internet_service\",\n",
    "    \"contract\": \"two_year\",\n",
    "    \"paperlessbilling\": \"yes\",\n",
    "    \"paymentmethod\": \"credit_card_(automatic)\",\n",
    "    \"monthlycharges\": (5 * 5.0),\n",
    "    \"totalcharges\": (5 * 340.0/12),\n",
    "    \"churn\":   0\n",
    "}\n"
   ]
  },
  {
   "cell_type": "code",
   "execution_count": 19,
   "metadata": {},
   "outputs": [
    {
     "data": {
      "text/plain": [
       "{'churn': False, 'churn probability': 0.18164305706389217}"
      ]
     },
     "execution_count": 19,
     "metadata": {},
     "output_type": "execute_result"
    }
   ],
   "source": [
    "response = requests.post(url, json=customer).json()\n",
    "response"
   ]
  },
  {
   "cell_type": "code",
   "execution_count": 15,
   "metadata": {},
   "outputs": [],
   "source": [
    "if response['churn'] == True:\n",
    "    print('send promotional email to %s' %('xyz-123'))"
   ]
  },
  {
   "cell_type": "code",
   "execution_count": null,
   "metadata": {},
   "outputs": [],
   "source": []
  }
 ],
 "metadata": {
  "kernelspec": {
   "display_name": "ml-zoomcamp",
   "language": "python",
   "name": "python3"
  },
  "language_info": {
   "codemirror_mode": {
    "name": "ipython",
    "version": 3
   },
   "file_extension": ".py",
   "mimetype": "text/x-python",
   "name": "python",
   "nbconvert_exporter": "python",
   "pygments_lexer": "ipython3",
   "version": "3.11.5"
  }
 },
 "nbformat": 4,
 "nbformat_minor": 2
}
